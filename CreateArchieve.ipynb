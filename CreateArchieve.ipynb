{
  "nbformat": 4,
  "nbformat_minor": 0,
  "metadata": {
    "colab": {
      "name": "CreateArchieve.ipynb",
      "provenance": [],
      "collapsed_sections": [],
      "mount_file_id": "1_s3Ncyn26VEFP2RsxwH8-XUPAqGJ1Hxe",
      "authorship_tag": "ABX9TyPmh5qGAyvpKOGZYRw1hjYN",
      "include_colab_link": true
    },
    "kernelspec": {
      "name": "python3",
      "display_name": "Python 3"
    }
  },
  "cells": [
    {
      "cell_type": "markdown",
      "metadata": {
        "id": "view-in-github",
        "colab_type": "text"
      },
      "source": [
        "<a href=\"https://colab.research.google.com/github/i-murray/SIGNATEHiroshimaLemon/blob/main/CreateArchieve.ipynb\" target=\"_parent\"><img src=\"https://colab.research.google.com/assets/colab-badge.svg\" alt=\"Open In Colab\"/></a>"
      ]
    },
    {
      "cell_type": "code",
      "metadata": {
        "colab": {
          "base_uri": "https://localhost:8080/"
        },
        "id": "8INCxQy0WcIr",
        "outputId": "07b55901-fe16-4104-9483-db102b24a0ed"
      },
      "source": [
        "# Upgrage / Install\n",
        "!pip install pandas\n",
        "!pip install h5py\n",
        "!pip install opencv-python\n",
        "!pip install numpy"
      ],
      "execution_count": 1,
      "outputs": [
        {
          "output_type": "stream",
          "text": [
            "Requirement already satisfied: pandas in /usr/local/lib/python3.6/dist-packages (1.1.5)\n",
            "Requirement already satisfied: pytz>=2017.2 in /usr/local/lib/python3.6/dist-packages (from pandas) (2018.9)\n",
            "Requirement already satisfied: python-dateutil>=2.7.3 in /usr/local/lib/python3.6/dist-packages (from pandas) (2.8.1)\n",
            "Requirement already satisfied: numpy>=1.15.4 in /usr/local/lib/python3.6/dist-packages (from pandas) (1.19.5)\n",
            "Requirement already satisfied: six>=1.5 in /usr/local/lib/python3.6/dist-packages (from python-dateutil>=2.7.3->pandas) (1.15.0)\n",
            "Requirement already satisfied: h5py in /usr/local/lib/python3.6/dist-packages (2.10.0)\n",
            "Requirement already satisfied: numpy>=1.7 in /usr/local/lib/python3.6/dist-packages (from h5py) (1.19.5)\n",
            "Requirement already satisfied: six in /usr/local/lib/python3.6/dist-packages (from h5py) (1.15.0)\n",
            "Requirement already satisfied: opencv-python in /usr/local/lib/python3.6/dist-packages (4.1.2.30)\n",
            "Requirement already satisfied: numpy>=1.11.3 in /usr/local/lib/python3.6/dist-packages (from opencv-python) (1.19.5)\n",
            "Requirement already satisfied: numpy in /usr/local/lib/python3.6/dist-packages (1.19.5)\n"
          ],
          "name": "stdout"
        }
      ]
    },
    {
      "cell_type": "code",
      "metadata": {
        "id": "b9At62q3Wy25"
      },
      "source": [
        "import pandas as pd\n",
        "import h5py\n",
        "import cv2\n",
        "import numpy as np\n",
        "from collections import defaultdict\n",
        "import os\n",
        "\n",
        "from shutil import copyfile\n",
        "copyfile('drive/MyDrive/Colab Notebooks/SIGNATEHiroshimaLemon/data/train_images.zip','train_images.zip')\n",
        "copyfile('drive/MyDrive/Colab Notebooks/SIGNATEHiroshimaLemon/data/test_images.zip','test_images.zip')\n",
        "import zipfile\n",
        "with zipfile.ZipFile('train_images.zip', 'r') as zip_ref:\n",
        "    zip_ref.extractall()\n",
        "with zipfile.ZipFile('test_images.zip', 'r') as zip_ref:\n",
        "    zip_ref.extractall()"
      ],
      "execution_count": 1,
      "outputs": []
    },
    {
      "cell_type": "code",
      "metadata": {
        "id": "MtYziIrKYNLl"
      },
      "source": [
        "with h5py.File('archive.hdf5', 'w') as hf:\n",
        "\n",
        "  for split in ['train','test']:\n",
        "    if split == 'train':\n",
        "      images = defaultdict(list)\n",
        "    else:\n",
        "      images = []\n",
        "\n",
        "    for _, row in pd.read_csv(f'drive/MyDrive/Colab Notebooks/SIGNATEHiroshimaLemon/data/{split}_images.csv').iterrows():\n",
        "      #if os.path.exists(f'drive/MyDrive/Colab Notebooks/SIGNATEHiroshimaLemon/data/{split}_images/'+row['id']):\n",
        "      if os.path.exists(f'{split}_images/'+row['id']):\n",
        "        #im = cv2.imread(f'drive/MyDrive/Colab Notebooks/SIGNATEHiroshimaLemon/data/{split}_images/'+row['id'])\n",
        "        im = cv2.imread(f'{split}_images/'+row['id'])\n",
        "        im = im[:, :, ::-1]\n",
        "        if split == 'train':\n",
        "          images[row['class_num']].append(im)\n",
        "        else:\n",
        "          images.append(im)\n",
        "\n",
        "    if split == 'train':\n",
        "      grp = hf.create_group(split)\n",
        "      for k in images.keys():\n",
        "        d = np.stack(images[k],axis=0)\n",
        "        grp.create_dataset(str(k),\n",
        "                        data=d,\n",
        "                        shape=d.shape,\n",
        "                        maxshape=d.shape,\n",
        "                        compression=\"gzip\",\n",
        "                        compression_opts=9,\n",
        "                        chunks=True,\n",
        "                        dtype=np.uint8)\n",
        "    else:\n",
        "      d = np.stack(images,axis=0)\n",
        "      hf.create_dataset(split,\n",
        "                      data=d,\n",
        "                      shape=d.shape,\n",
        "                      maxshape=d.shape,\n",
        "                      compression=\"gzip\",\n",
        "                      compression_opts=9,\n",
        "                      chunks=True,\n",
        "                      dtype=np.uint8)  \n",
        "  hf.close()"
      ],
      "execution_count": 2,
      "outputs": []
    },
    {
      "cell_type": "code",
      "metadata": {
        "colab": {
          "base_uri": "https://localhost:8080/",
          "height": 35
        },
        "id": "Eav05xdqIDgO",
        "outputId": "73f38513-da50-4011-9121-b276d07038cb"
      },
      "source": [
        "copyfile('archive.hdf5','drive/MyDrive/Colab Notebooks/SIGNATEHiroshimaLemon/data/archive.hdf5')"
      ],
      "execution_count": 4,
      "outputs": [
        {
          "output_type": "execute_result",
          "data": {
            "application/vnd.google.colaboratory.intrinsic+json": {
              "type": "string"
            },
            "text/plain": [
              "'drive/MyDrive/Colab Notebooks/SIGNATEHiroshimaLemon/data/archive.hdf5'"
            ]
          },
          "metadata": {
            "tags": []
          },
          "execution_count": 4
        }
      ]
    }
  ]
}