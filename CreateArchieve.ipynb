{
  "nbformat": 4,
  "nbformat_minor": 0,
  "metadata": {
    "colab": {
      "name": "CreateArchieve.ipynb",
      "provenance": [],
      "collapsed_sections": [],
      "mount_file_id": "1_s3Ncyn26VEFP2RsxwH8-XUPAqGJ1Hxe",
      "authorship_tag": "ABX9TyP3+dNyVGxITg7OwxipNxDQ",
      "include_colab_link": true
    },
    "kernelspec": {
      "name": "python3",
      "display_name": "Python 3"
    }
  },
  "cells": [
    {
      "cell_type": "markdown",
      "metadata": {
        "id": "view-in-github",
        "colab_type": "text"
      },
      "source": [
        "<a href=\"https://colab.research.google.com/github/i-murray/SIGNATEHiroshimaLemon/blob/main/CreateArchieve.ipynb\" target=\"_parent\"><img src=\"https://colab.research.google.com/assets/colab-badge.svg\" alt=\"Open In Colab\"/></a>"
      ]
    },
    {
      "cell_type": "code",
      "metadata": {
        "colab": {
          "base_uri": "https://localhost:8080/"
        },
        "id": "8INCxQy0WcIr",
        "outputId": "069700a0-0915-4602-c2f8-a6765395eae4"
      },
      "source": [
        "# Upgrage / Install\n",
        "!pip install pandas\n",
        "!pip install h5py\n",
        "!pip install opencv-python\n",
        "!pip install numpy"
      ],
      "execution_count": 8,
      "outputs": [
        {
          "output_type": "stream",
          "text": [
            "Requirement already satisfied: pandas in /usr/local/lib/python3.6/dist-packages (1.1.5)\n",
            "Requirement already satisfied: pytz>=2017.2 in /usr/local/lib/python3.6/dist-packages (from pandas) (2018.9)\n",
            "Requirement already satisfied: numpy>=1.15.4 in /usr/local/lib/python3.6/dist-packages (from pandas) (1.19.5)\n",
            "Requirement already satisfied: python-dateutil>=2.7.3 in /usr/local/lib/python3.6/dist-packages (from pandas) (2.8.1)\n",
            "Requirement already satisfied: six>=1.5 in /usr/local/lib/python3.6/dist-packages (from python-dateutil>=2.7.3->pandas) (1.15.0)\n",
            "Requirement already satisfied: h5py in /usr/local/lib/python3.6/dist-packages (2.10.0)\n",
            "Requirement already satisfied: six in /usr/local/lib/python3.6/dist-packages (from h5py) (1.15.0)\n",
            "Requirement already satisfied: numpy>=1.7 in /usr/local/lib/python3.6/dist-packages (from h5py) (1.19.5)\n",
            "Requirement already satisfied: opencv-python in /usr/local/lib/python3.6/dist-packages (4.1.2.30)\n",
            "Requirement already satisfied: numpy>=1.11.3 in /usr/local/lib/python3.6/dist-packages (from opencv-python) (1.19.5)\n"
          ],
          "name": "stdout"
        }
      ]
    },
    {
      "cell_type": "code",
      "metadata": {
        "id": "b9At62q3Wy25"
      },
      "source": [
        "import pandas as pd\n",
        "import h5py\n",
        "import cv2\n",
        "import numpy as np\n",
        "from collections import defaultdict\n",
        "import os"
      ],
      "execution_count": 32,
      "outputs": []
    },
    {
      "cell_type": "code",
      "metadata": {
        "id": "MtYziIrKYNLl"
      },
      "source": [
        "with h5py.File('archive.hdf5', 'w') as hf:\n",
        "\n",
        "  for split in ['train','test']:\n",
        "\n",
        "    images = defaultdict(list)\n",
        "    for _, row in pd.read_csv(f'drive/MyDrive/Colab Notebooks/SIGNATEHiroshimaLemon/data/{split}_images.csv').iterrows():\n",
        "      if os.path.exists(f'drive/MyDrive/Colab Notebooks/SIGNATEHiroshimaLemon/data/{split}_images/'+row['id']):\n",
        "        im = cv2.imread(f'drive/MyDrive/Colab Notebooks/SIGNATEHiroshimaLemon/data/{split}_images/'+row['id'])\n",
        "        im = im[:, :, ::-1].astype(np.float32) / 255\n",
        "        images[row['class_num']].append(im)\n",
        "\n",
        "    grp = hf.create_group(split)\n",
        "    for k in images.keys():\n",
        "      d = np.stack(images[k],axis=0)\n",
        "      grp.create_dataset(k,\n",
        "                      shape=d.shape(),\n",
        "                      compression=None,\n",
        "                      chunks=None)"
      ],
      "execution_count": null,
      "outputs": []
    }
  ]
}